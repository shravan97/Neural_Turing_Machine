{
 "cells": [
  {
   "cell_type": "code",
   "execution_count": 1,
   "metadata": {
    "collapsed": true
   },
   "outputs": [],
   "source": [
    "# imports\n",
    "import tensorflow as tf\n",
    "import numpy as np\n"
   ]
  },
  {
   "cell_type": "code",
   "execution_count": null,
   "metadata": {
    "collapsed": true
   },
   "outputs": [],
   "source": [
    "class NTM(object):\n",
    "    \"\"\"\n",
    "    Controller config\n",
    "    Memory matrix\n",
    "    Read vectors / weights\n",
    "    \n",
    "    \"\"\"\n",
    "    def __init__(self, layers):\n",
    "        self.sess = tf.Session()\n",
    "        self.layers = layers\n",
    "        self.weights = \n",
    "    \n",
    "    def weights_initialize(self):\n",
    "        layers = self.layers\n",
    "        \n",
    "        weights = []\n",
    "        prev_size = 1\n",
    "        cur_layer = 1\n",
    "        for size in layers:\n",
    "            weights.append()\n",
    "    def controller(self, input):\n",
    "        \n",
    "        for size in layers:\n",
    "            layer = tf.\n",
    "        pass\n",
    "    \n",
    "    def read(self):\n",
    "        pass\n",
    "    \n",
    "    def write(self):\n",
    "        pass"
   ]
  }
 ],
 "metadata": {
  "kernelspec": {
   "display_name": "Python 3",
   "language": "python",
   "name": "python3"
  },
  "language_info": {
   "codemirror_mode": {
    "name": "ipython",
    "version": 3
   },
   "file_extension": ".py",
   "mimetype": "text/x-python",
   "name": "python",
   "nbconvert_exporter": "python",
   "pygments_lexer": "ipython3",
   "version": "3.6.1"
  }
 },
 "nbformat": 4,
 "nbformat_minor": 2
}
