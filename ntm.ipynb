{
 "cells": [
  {
   "cell_type": "code",
   "execution_count": 119,
   "metadata": {
    "collapsed": true
   },
   "outputs": [],
   "source": [
    "# imports\n",
    "import tensorflow as tf\n",
    "from tensorflow.contrib.layers import xavier_initializer as xav\n",
    "import numpy as np"
   ]
  },
  {
   "cell_type": "code",
   "execution_count": 120,
   "metadata": {},
   "outputs": [],
   "source": [
    "class controller(object):\n",
    "    def __init__(self, layers):\n",
    "        self.sess = tf.Session()\n",
    "        self.layers = layers\n",
    "\n",
    "        with tf.variable_scope(\"weights\", reuse=None):\n",
    "            prev_size = layers[0]\n",
    "            cur_layer = 1\n",
    "            self.weights = []\n",
    "            xav_init = xav(dtype=tf.float32)\n",
    "            for size in layers[1:]:\n",
    "                # self.weights.append(xav_init(shape = [size, prev_size]))\n",
    "                self.weights.append(tf.get_variable(name=\"w\" + str(cur_layer), shape=[size, prev_size],\n",
    "                                                    initializer=xav_init))\n",
    "                prev_size = size\n",
    "                cur_layer += 1\n",
    "\n",
    "        # self.weights = self.weights_initialize()\n",
    "        self.optimizer = tf.train.AdamOptimizer()\n",
    "\n",
    "    def train(self, prediction, target):\n",
    "\n",
    "        loss = tf.reduce_sum(tf.square(prediction - target))\n",
    "        loss_step = self.optimizer.minimize(loss)\n",
    "\n",
    "        return loss, loss_step\n",
    "\n",
    "    # def weights_initialize(self):\n",
    "    #     layers = self.layers\n",
    "    # \n",
    "    #     weights = []\n",
    "    #     prev_size = layers[0]\n",
    "    # \n",
    "    #     xav_init = tf.contrib.layers.xavier_initializer(dtype = tf.float32)\n",
    "    #     for size in layers[1:]:\n",
    "    #         weights.append(self.sess.run(xav_init(shape = [size, prev_size])))\n",
    "    #         prev_size = size\n",
    "    # \n",
    "    #     return weights\n",
    "\n",
    "    def forward(self, input):\n",
    "\n",
    "        layer = input\n",
    "\n",
    "        with tf.variable_scope(\"weights\", reuse=True):\n",
    "            for layer_index in range(len(self.layers) - 1):\n",
    "                layer = tf.matmul(self.weights[layer_index], layer)\n",
    "                if layer_index != len(self.layers) - 2:\n",
    "                    layer = tf.nn.relu(layer)\n",
    "\n",
    "        return layer"
   ]
  },
  {
   "cell_type": "code",
   "execution_count": 121,
   "metadata": {
    "collapsed": true
   },
   "outputs": [],
   "source": [
    "class NTM(object):\n",
    "    \"\"\"\n",
    "    Controller config\n",
    "    Memory matrix\n",
    "    Read vectors / weights\n",
    "    \n",
    "    \"\"\"\n",
    "    def __init__(self, layers, mem_size):\n",
    "        self.controller = controller(layers)\n",
    "        with tf.variable_scope(\"ntm\", reuse=None):\n",
    "            self.memory = tf.zeros(shape=[mem_size, mem_size], dtype=tf.float32, name=\"memory\")\n",
    "            self.read_vector = tf.zeros(mem_size)\n",
    "            xav_init = xav(dtype=tf.float32)\n",
    "            self.weights = tf.get_variable(\"weights\", initializer=xav_init, shape=[mem_size, 1])\n",
    "\n",
    "\n",
    "    def read(self):\n",
    "        with tf.variable_scope(\"ntm\", reuse=True):\n",
    "            mem = self.memory\n",
    "            wts = self.weights\n",
    "            self.read_vector = tf.matmul(mem, wts)\n",
    "\n",
    "\n",
    "    def write(self):\n",
    "        pass"
   ]
  },
  {
   "cell_type": "code",
   "execution_count": 122,
   "metadata": {
    "collapsed": false
   },
   "outputs": [
    {
     "name": "stdout",
     "output_type": "stream",
     "text": [
      "[[ 0.]\n [ 0.]\n [ 0.]\n [ 0.]\n [ 0.]]\n"
     ]
    }
   ],
   "source": [
    "with tf.Graph().as_default():\n",
    "    ntm = NTM([100,200,300,200,40], 5)\n",
    "    ntm.read()\n",
    "    # wts = ntm.controller.weights\n",
    "    # wts = tf.Session().run(wts)\n",
    "    # for k in wts:\n",
    "    #     print(np.shape(k))\n",
    "    sess = tf.Session()\n",
    "\n",
    "    # input = np.random.rand(100,1).astype(dtype=np.float32)\n",
    "    # pred = ntm.controller.forward(input)\n",
    "    # # pred1 = tf.Session().run(pred)\n",
    "    \n",
    "    writer = tf.summary.FileWriter(\"/Users/shravan/codes/NTM/logs\")\n",
    "    writer.add_graph(sess.graph)\n",
    "       \n",
    "    sess.run(tf.global_variables_initializer())\n",
    "    read_vec = sess.run(ntm.read_vector)\n",
    "    print(read_vec)\n",
    "    # \n",
    "    # target = np.zeros([40,1])\n",
    "    # target[4] = 1\n",
    "    \n",
    "    # \n",
    "    # loss, train_step = ntm.controller.train(pred, target)\n",
    "    # sess.run(tf.global_variables_initializer())\n",
    "    # for _ in range(100):\n",
    "    #     ls, _ = sess.run([loss, train_step])\n",
    "    #     print(ls)\n",
    "    # print(\" new \")\n",
    "    # for _ in range(10):\n",
    "    #     ls, _ = sess.run([loss, train_step])\n",
    "    #     print(ls)\n",
    "    # print(sess.run(pred), sess.run(pred))"
   ]
  },
  {
   "cell_type": "code",
   "execution_count": 122,
   "metadata": {},
   "outputs": [],
   "source": [
    ""
   ]
  },
  {
   "cell_type": "code",
   "execution_count": 122,
   "metadata": {},
   "outputs": [],
   "source": [
    ""
   ]
  },
  {
   "cell_type": "code",
   "execution_count": null,
   "metadata": {},
   "outputs": [],
   "source": [
    ""
   ]
  }
 ],
 "metadata": {
  "kernelspec": {
   "display_name": "Python 3",
   "language": "python",
   "name": "python3"
  },
  "language_info": {
   "codemirror_mode": {
    "name": "ipython",
    "version": 3.0
   },
   "file_extension": ".py",
   "mimetype": "text/x-python",
   "name": "python",
   "nbconvert_exporter": "python",
   "pygments_lexer": "ipython3",
   "version": "3.6.1"
  }
 },
 "nbformat": 4,
 "nbformat_minor": 0
}